{
 "cells": [
  {
   "cell_type": "code",
   "execution_count": 2,
   "id": "33c96c43-745e-48e0-8767-c640065a379d",
   "metadata": {},
   "outputs": [],
   "source": [
    "class Test():\n",
    "    \n",
    "    def __init__(self, val1, val2, *args, **kwargs):\n",
    "        self.val1 = val1\n",
    "        self.val2 = val2"
   ]
  },
  {
   "cell_type": "code",
   "execution_count": 3,
   "id": "5c778270-063a-49aa-b525-e4d011e9fc24",
   "metadata": {},
   "outputs": [],
   "source": [
    "ts = Test(val1=1, val2=2)"
   ]
  },
  {
   "cell_type": "code",
   "execution_count": 4,
   "id": "19d0a2f8-27b7-48dc-92fb-d8a621d8cd65",
   "metadata": {},
   "outputs": [
    {
     "data": {
      "text/plain": [
       "1"
      ]
     },
     "execution_count": 4,
     "metadata": {},
     "output_type": "execute_result"
    }
   ],
   "source": [
    "ts.val1"
   ]
  },
  {
   "cell_type": "code",
   "execution_count": 5,
   "id": "ffad335e-e1c8-464a-9cc1-4a842d0ff92a",
   "metadata": {},
   "outputs": [
    {
     "data": {
      "text/plain": [
       "2"
      ]
     },
     "execution_count": 5,
     "metadata": {},
     "output_type": "execute_result"
    }
   ],
   "source": [
    "ts.val2"
   ]
  },
  {
   "cell_type": "code",
   "execution_count": 6,
   "id": "96075522-26d6-4280-aeda-1a0c9fefc5a3",
   "metadata": {},
   "outputs": [],
   "source": [
    "class SuperTest(Test):\n",
    "    \n",
    "    def __init__(self, val3, *args, **kwargs):\n",
    "        super().__init__(*args, **kwargs)\n",
    "        self.val3 = val3\n",
    "        \n",
    "        \n",
    "    "
   ]
  },
  {
   "cell_type": "code",
   "execution_count": 7,
   "id": "22ceb546-7ffa-4aa7-887f-7b22b0195fd4",
   "metadata": {},
   "outputs": [],
   "source": [
    "ts = SuperTest(val1=1, val2=2,val3=3)"
   ]
  },
  {
   "cell_type": "code",
   "execution_count": 8,
   "id": "e1c6fa81",
   "metadata": {},
   "outputs": [
    {
     "data": {
      "text/plain": [
       "1"
      ]
     },
     "execution_count": 8,
     "metadata": {},
     "output_type": "execute_result"
    }
   ],
   "source": [
    "ts.val1"
   ]
  },
  {
   "cell_type": "code",
   "execution_count": null,
   "id": "f91d2530",
   "metadata": {},
   "outputs": [],
   "source": []
  },
  {
   "cell_type": "code",
   "execution_count": null,
   "id": "f5a9ad92",
   "metadata": {},
   "outputs": [],
   "source": []
  }
 ],
 "metadata": {
  "kernelspec": {
   "display_name": "Python 3",
   "language": "python",
   "name": "python3"
  },
  "language_info": {
   "codemirror_mode": {
    "name": "ipython",
    "version": 3
   },
   "file_extension": ".py",
   "mimetype": "text/x-python",
   "name": "python",
   "nbconvert_exporter": "python",
   "pygments_lexer": "ipython3",
   "version": "3.8.5"
  }
 },
 "nbformat": 4,
 "nbformat_minor": 5
}
