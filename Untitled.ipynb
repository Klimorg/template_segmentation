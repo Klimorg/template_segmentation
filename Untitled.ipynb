{
 "cells": [
  {
   "cell_type": "code",
   "execution_count": 52,
   "id": "33c96c43-745e-48e0-8767-c640065a379d",
   "metadata": {},
   "outputs": [],
   "source": [
    "class Test():\n",
    "    \n",
    "    def __init__(self, val1, val2, *args, **kwargs):\n",
    "        self.val1 = val1\n",
    "        self.val2 = val2"
   ]
  },
  {
   "cell_type": "code",
   "execution_count": 53,
   "id": "5c778270-063a-49aa-b525-e4d011e9fc24",
   "metadata": {},
   "outputs": [],
   "source": [
    "ts = Test(val1=1, val2=2)"
   ]
  },
  {
   "cell_type": "code",
   "execution_count": 54,
   "id": "19d0a2f8-27b7-48dc-92fb-d8a621d8cd65",
   "metadata": {},
   "outputs": [
    {
     "data": {
      "text/plain": [
       "1"
      ]
     },
     "execution_count": 54,
     "metadata": {},
     "output_type": "execute_result"
    }
   ],
   "source": [
    "ts.val1"
   ]
  },
  {
   "cell_type": "code",
   "execution_count": 55,
   "id": "ffad335e-e1c8-464a-9cc1-4a842d0ff92a",
   "metadata": {},
   "outputs": [
    {
     "data": {
      "text/plain": [
       "2"
      ]
     },
     "execution_count": 55,
     "metadata": {},
     "output_type": "execute_result"
    }
   ],
   "source": [
    "ts.val2"
   ]
  },
  {
   "cell_type": "code",
   "execution_count": 56,
   "id": "96075522-26d6-4280-aeda-1a0c9fefc5a3",
   "metadata": {},
   "outputs": [],
   "source": [
    "class SuperTest(Test):\n",
    "    \n",
    "    def __init__(self, val3, *args, **kwargs):\n",
    "        super().__init__(val3,*args, **kwargs)\n",
    "        self.val3 = val3\n",
    "        \n",
    "        \n",
    "    "
   ]
  },
  {
   "cell_type": "code",
   "execution_count": 60,
   "id": "22ceb546-7ffa-4aa7-887f-7b22b0195fd4",
   "metadata": {},
   "outputs": [
    {
     "ename": "TypeError",
     "evalue": "__init__() missing 1 required positional argument: 'val2'",
     "output_type": "error",
     "traceback": [
      "\u001b[0;31m---------------------------------------------------------------------------\u001b[0m",
      "\u001b[0;31mTypeError\u001b[0m                                 Traceback (most recent call last)",
      "\u001b[0;32m<ipython-input-60-62e036dc4568>\u001b[0m in \u001b[0;36m<module>\u001b[0;34m\u001b[0m\n\u001b[0;32m----> 1\u001b[0;31m \u001b[0mts\u001b[0m \u001b[0;34m=\u001b[0m \u001b[0mSuperTest\u001b[0m\u001b[0;34m(\u001b[0m\u001b[0mval3\u001b[0m\u001b[0;34m=\u001b[0m\u001b[0;36m3\u001b[0m\u001b[0;34m)\u001b[0m\u001b[0;34m\u001b[0m\u001b[0;34m\u001b[0m\u001b[0m\n\u001b[0m",
      "\u001b[0;32m<ipython-input-56-c8ae96f0ca18>\u001b[0m in \u001b[0;36m__init__\u001b[0;34m(self, val3, *args, **kwargs)\u001b[0m\n\u001b[1;32m      2\u001b[0m \u001b[0;34m\u001b[0m\u001b[0m\n\u001b[1;32m      3\u001b[0m     \u001b[0;32mdef\u001b[0m \u001b[0m__init__\u001b[0m\u001b[0;34m(\u001b[0m\u001b[0mself\u001b[0m\u001b[0;34m,\u001b[0m \u001b[0mval3\u001b[0m\u001b[0;34m,\u001b[0m \u001b[0;34m*\u001b[0m\u001b[0margs\u001b[0m\u001b[0;34m,\u001b[0m \u001b[0;34m**\u001b[0m\u001b[0mkwargs\u001b[0m\u001b[0;34m)\u001b[0m\u001b[0;34m:\u001b[0m\u001b[0;34m\u001b[0m\u001b[0;34m\u001b[0m\u001b[0m\n\u001b[0;32m----> 4\u001b[0;31m         \u001b[0msuper\u001b[0m\u001b[0;34m(\u001b[0m\u001b[0;34m)\u001b[0m\u001b[0;34m.\u001b[0m\u001b[0m__init__\u001b[0m\u001b[0;34m(\u001b[0m\u001b[0mval3\u001b[0m\u001b[0;34m,\u001b[0m\u001b[0;34m*\u001b[0m\u001b[0margs\u001b[0m\u001b[0;34m,\u001b[0m \u001b[0;34m**\u001b[0m\u001b[0mkwargs\u001b[0m\u001b[0;34m)\u001b[0m\u001b[0;34m\u001b[0m\u001b[0;34m\u001b[0m\u001b[0m\n\u001b[0m\u001b[1;32m      5\u001b[0m         \u001b[0mself\u001b[0m\u001b[0;34m.\u001b[0m\u001b[0mval3\u001b[0m \u001b[0;34m=\u001b[0m \u001b[0mval3\u001b[0m\u001b[0;34m\u001b[0m\u001b[0;34m\u001b[0m\u001b[0m\n\u001b[1;32m      6\u001b[0m \u001b[0;34m\u001b[0m\u001b[0m\n",
      "\u001b[0;31mTypeError\u001b[0m: __init__() missing 1 required positional argument: 'val2'"
     ]
    }
   ],
   "source": [
    "ts = SuperTest(val3=3)"
   ]
  },
  {
   "cell_type": "code",
   "execution_count": 58,
   "id": "337bc9f9-22f4-400c-b06a-5c83009a9d1e",
   "metadata": {},
   "outputs": [],
   "source": [
    "class Root:\n",
    "    def draw(self):\n",
    "        # the delegation chain stops here\n",
    "        assert not hasattr(super(), 'draw')\n",
    "\n",
    "class Shape(Root):\n",
    "    def __init__(self, shapename, **kwds):\n",
    "        self.shapename = shapename\n",
    "        super().__init__(**kwds)\n",
    "    def draw(self):\n",
    "        print('Drawing.  Setting shape to:', self.shapename)\n",
    "        super().draw()\n",
    "\n",
    "class ColoredShape(Shape):\n",
    "    def __init__(self, color, **kwds):\n",
    "        self.color = color\n",
    "        super().__init__(**kwds)\n",
    "    def draw(self):\n",
    "        print('Drawing.  Setting color to:', self.color)\n",
    "        super().draw()"
   ]
  },
  {
   "cell_type": "code",
   "execution_count": 59,
   "id": "8ba3c785-d521-4aa9-8bfd-237d53ee4c1f",
   "metadata": {},
   "outputs": [
    {
     "name": "stdout",
     "output_type": "stream",
     "text": [
      "Drawing.  Setting color to: blue\n",
      "Drawing.  Setting shape to: square\n"
     ]
    }
   ],
   "source": [
    "cs = ColoredShape(color='blue', shapename='square')\n",
    "cs.draw()"
   ]
  },
  {
   "cell_type": "code",
   "execution_count": null,
   "id": "b83025e1-e87d-4bb7-8bd5-5efeb0513d87",
   "metadata": {},
   "outputs": [],
   "source": []
  }
 ],
 "metadata": {
  "kernelspec": {
   "display_name": "Python 3",
   "language": "python",
   "name": "python3"
  },
  "language_info": {
   "codemirror_mode": {
    "name": "ipython",
    "version": 3
   },
   "file_extension": ".py",
   "mimetype": "text/x-python",
   "name": "python",
   "nbconvert_exporter": "python",
   "pygments_lexer": "ipython3",
   "version": "3.8.5"
  }
 },
 "nbformat": 4,
 "nbformat_minor": 5
}
